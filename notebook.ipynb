{
 "cells": [
  {
   "attachments": {},
   "cell_type": "markdown",
   "metadata": {},
   "source": [
    "# Frozen Bot\n",
    "Heladerías Frozen SRL nos solicita la construcción de un bot para la toma de\n",
    "pedidos. Es nuestra responsabilidad el desarrollo de funciones auxiliares que le darán al bot la capacidad de desenvolverse en la conversación."
   ]
  },
  {
   "attachments": {},
   "cell_type": "markdown",
   "metadata": {},
   "source": [
    "Flujo de diálogo\n",
    "\n",
    "El siguiente diagrama ejemplifica el diálogo del bot:"
   ]
  },
  {
   "attachments": {},
   "cell_type": "markdown",
   "metadata": {},
   "source": [
    "![Flujo de diálogo](images/flujo.jpg)"
   ]
  },
  {
   "attachments": {},
   "cell_type": "markdown",
   "metadata": {},
   "source": [
    "Como se puede observar en el diagrama, en determinados momentos, el bot necesitará realizar validaciones externas para evaluar cómo continuar.\n",
    "\n",
    "A continuación, se define el alcance de esas funciones y se solicita desarrollar las mismas."
   ]
  },
  {
   "attachments": {},
   "cell_type": "markdown",
   "metadata": {},
   "source": [
    "## 1: GeoAPI\n",
    "\n",
    "Completar el método is_hot_in_pehuajo con el siguiente objetivo:\n",
    "* Consultar la información de clima y devolver True si la temperatura actual\n",
    "supera los 28 grados celsius o False caso contrario. Esto implica incluso\n",
    "devolver False ante cualquier excepción http.\n",
    "\n",
    "API Información de clima: \n",
    "Link a documentacion: https://openweathermap.org/current#geo"
   ]
  },
  {
   "attachments": {},
   "cell_type": "markdown",
   "metadata": {},
   "source": [
    "Comenzamos importando requests para realizar solicitudes HTTP a la API de información climática. Definimos la clase GeoAPI y el método is_hot_in_pehuajo dentro de ella.\n",
    "\n",
    "Nota: puedes instalar requests desde el propio notebook con :\n",
    "%pip install requests ó !pip install requests"
   ]
  },
  {
   "attachments": {},
   "cell_type": "markdown",
   "metadata": {},
   "source": [
    "También voy a instalar logging para manejar exepciones y que no se vea afectado el retorno de la función.\n",
    "\n",
    "%pip install logging"
   ]
  },
  {
   "cell_type": "code",
   "execution_count": 2,
   "metadata": {},
   "outputs": [
    {
     "name": "stderr",
     "output_type": "stream",
     "text": [
      "2023-07-09 00:03:13,271 - DEBUG - Starting new HTTPS connection (1): api.openweathermap.org:443\n",
      "2023-07-09 00:03:14,545 - DEBUG - https://api.openweathermap.org:443 \"GET /data/2.5/weather?lat=-35.836948753554054&lon=-61.870523905384076&appid=d81015613923e3e435231f2740d5610b&units=metric HTTP/1.1\" 200 489\n",
      "2023-07-09 00:03:14,549 - INFO - La temperatura actual en Pehuajó es 7 grados Celsius\n"
     ]
    },
    {
     "name": "stdout",
     "output_type": "stream",
     "text": [
      "No hace calor en Pehuajó.\n"
     ]
    }
   ],
   "source": [
    "import logging\n",
    "import requests\n",
    "\n",
    "logging.basicConfig(level=logging.DEBUG,\n",
    "                    format='%(asctime)s - %(levelname)s - %(message)s')\n",
    "logger = logging.getLogger(__name__)\n",
    "\n",
    "class GeoAPI:\n",
    "    \"\"\"\n",
    "    Clase para interactuar con la API de información de clima.\n",
    "    \"\"\"\n",
    "\n",
    "    API_KEY = \"d81015613923e3e435231f2740d5610b\"\n",
    "    LAT = \"-35.836948753554054\" \n",
    "    LON = \"-61.870523905384076\"\n",
    "    \n",
    "    MAX_TEMP = 28\n",
    "\n",
    "    @classmethod\n",
    "    def is_hot_in_pehuajo(cls):\n",
    "        \"\"\"\n",
    "        Consulta la información de clima y devuelve True si la temperatura actual supera los 28 grados Celsius,\n",
    "        o False en caso contrario. Devuelve False ante cualquier excepción http.\n",
    "\n",
    "        :return: True si la temperatura es mayor a 28 grados, False en caso contrario.\n",
    "        :rtype: bool\n",
    "        \"\"\"\n",
    "        try:\n",
    "            url = f\"https://api.openweathermap.org/data/2.5/weather\"\n",
    "            parameters = {\"lat\": cls.LAT, \"lon\": cls.LON, \"appid\": cls.API_KEY, \"units\": \"metric\"}\n",
    "            response = requests.get(url, parameters)\n",
    "\n",
    "            if response.status_code == 200:\n",
    "                data = response.json()\n",
    "                temperature = data[\"main\"][\"temp\"]\n",
    "\n",
    "                # Registrar mensaje informativo\n",
    "                logger.info(f\"La temperatura actual en Pehuajó es {temperature} grados Celsius\")\n",
    "\n",
    "                return temperature > cls.MAX_TEMP\n",
    "            else:\n",
    "                # Registrar mensaje de error\n",
    "                logger.error(\"No se pudo obtener la información del clima\")\n",
    "\n",
    "                return False\n",
    "        except requests.exceptions.RequestException:\n",
    "            # Registrar mensaje de excepción\n",
    "            logger.exception(\"Ocurrió un error al realizar la solicitud HTTP\")\n",
    "\n",
    "            return False\n",
    "        \n",
    "# Llamar al método is_hot_in_pehuajo para verificar si hace calor en Pehuajó\n",
    "result = GeoAPI.is_hot_in_pehuajo()\n",
    "\n",
    "# Imprimir el resultado\n",
    "if result:\n",
    "    print(\"¡Hace calor en Pehuajó!\")\n",
    "else:\n",
    "    print(\"No hace calor en Pehuajó.\")\n"
   ]
  },
  {
   "attachments": {},
   "cell_type": "markdown",
   "metadata": {},
   "source": [
    "Nota: Si estas utilizando Visual Estudio Code y si no lo hiciste antes, al ejecutar la primera celda con python te debería salir la ventana emrgente siguiente, donde debes instalar ipykernel package:"
   ]
  },
  {
   "attachments": {},
   "cell_type": "markdown",
   "metadata": {},
   "source": [
    "![instalar ipykernel package](images/ipykernel-package.jpg)"
   ]
  },
  {
   "cell_type": "code",
   "execution_count": null,
   "metadata": {},
   "outputs": [],
   "source": []
  }
 ],
 "metadata": {
  "kernelspec": {
   "display_name": "venv",
   "language": "python",
   "name": "python3"
  },
  "language_info": {
   "codemirror_mode": {
    "name": "ipython",
    "version": 3
   },
   "file_extension": ".py",
   "mimetype": "text/x-python",
   "name": "python",
   "nbconvert_exporter": "python",
   "pygments_lexer": "ipython3",
   "version": "3.10.4"
  },
  "orig_nbformat": 4
 },
 "nbformat": 4,
 "nbformat_minor": 2
}
