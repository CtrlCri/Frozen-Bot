{
 "cells": [
  {
   "attachments": {},
   "cell_type": "markdown",
   "metadata": {},
   "source": [
    "# Frozen Bot\n",
    "Heladerías Frozen SRL nos solicita la construcción de un bot para la toma de\n",
    "pedidos. Es nuestra responsabilidad el desarrollo de funciones auxiliares que le darán al bot la capacidad de desenvolverse en la conversación."
   ]
  },
  {
   "attachments": {},
   "cell_type": "markdown",
   "metadata": {},
   "source": [
    "Flujo de diálogo\n",
    "\n",
    "El siguiente diagrama ejemplifica el diálogo del bot:"
   ]
  },
  {
   "attachments": {},
   "cell_type": "markdown",
   "metadata": {},
   "source": [
    "![Flujo de diálogo](images/flujo.jpg)"
   ]
  },
  {
   "attachments": {},
   "cell_type": "markdown",
   "metadata": {},
   "source": [
    "Como se puede observar en el diagrama, en determinados momentos, el bot necesitará realizar validaciones externas para evaluar cómo continuar.\n",
    "\n",
    "A continuación, se define el alcance de esas funciones y se solicita desarrollar las mismas."
   ]
  },
  {
   "attachments": {},
   "cell_type": "markdown",
   "metadata": {},
   "source": [
    "## 1: GeoAPI\n",
    "\n",
    "Completar el método is_hot_in_pehuajo con el siguiente objetivo:\n",
    "* Consultar la información de clima y devolver True si la temperatura actual\n",
    "supera los 28 grados celsius o False caso contrario. Esto implica incluso\n",
    "devolver False ante cualquier excepción http.\n",
    "\n",
    "API Información de clima: \n",
    "Link a documentacion: https://openweathermap.org/current#geo"
   ]
  },
  {
   "attachments": {},
   "cell_type": "markdown",
   "metadata": {},
   "source": [
    "Comenzamos importando requests para realizar solicitudes HTTP a la API de información climática. Definimos la clase GeoAPI y el método is_hot_in_pehuajo dentro de ella.\n",
    "\n",
    "Nota: puedes instalar requests desde el propio notebook con :\n",
    "%pip install requests ó !pip install requests"
   ]
  },
  {
   "attachments": {},
   "cell_type": "markdown",
   "metadata": {},
   "source": [
    "También voy a instalar logging para manejar exepciones y que no se vea afectado el retorno de la función.\n",
    "\n",
    "%pip install logging"
   ]
  },
  {
   "cell_type": "code",
   "execution_count": 2,
   "metadata": {},
   "outputs": [
    {
     "name": "stderr",
     "output_type": "stream",
     "text": [
      "2023-07-09 00:03:13,271 - DEBUG - Starting new HTTPS connection (1): api.openweathermap.org:443\n",
      "2023-07-09 00:03:14,545 - DEBUG - https://api.openweathermap.org:443 \"GET /data/2.5/weather?lat=-35.836948753554054&lon=-61.870523905384076&appid=d81015613923e3e435231f2740d5610b&units=metric HTTP/1.1\" 200 489\n",
      "2023-07-09 00:03:14,549 - INFO - La temperatura actual en Pehuajó es 7 grados Celsius\n"
     ]
    },
    {
     "name": "stdout",
     "output_type": "stream",
     "text": [
      "No hace calor en Pehuajó.\n"
     ]
    }
   ],
   "source": [
    "import logging\n",
    "import requests\n",
    "\n",
    "logging.basicConfig(level=logging.DEBUG,\n",
    "                    format='%(asctime)s - %(levelname)s - %(message)s')\n",
    "logger = logging.getLogger(__name__)\n",
    "\n",
    "class GeoAPI:\n",
    "    \"\"\"\n",
    "    Clase para interactuar con la API de información de clima.\n",
    "    \"\"\"\n",
    "\n",
    "    API_KEY = \"d81015613923e3e435231f2740d5610b\"\n",
    "    LAT = \"-35.836948753554054\" \n",
    "    LON = \"-61.870523905384076\"\n",
    "    \n",
    "    MAX_TEMP = 28\n",
    "\n",
    "    @classmethod\n",
    "    def is_hot_in_pehuajo(cls):\n",
    "        \"\"\"\n",
    "        Consulta la información de clima y devuelve True si la temperatura actual supera los 28 grados Celsius,\n",
    "        o False en caso contrario. Devuelve False ante cualquier excepción http.\n",
    "\n",
    "        :return: True si la temperatura es mayor a 28 grados, False en caso contrario.\n",
    "        :rtype: bool\n",
    "        \"\"\"\n",
    "        try:\n",
    "            url = f\"https://api.openweathermap.org/data/2.5/weather\"\n",
    "            parameters = {\"lat\": cls.LAT, \"lon\": cls.LON, \"appid\": cls.API_KEY, \"units\": \"metric\"}\n",
    "            response = requests.get(url, parameters)\n",
    "\n",
    "            if response.status_code == 200:\n",
    "                data = response.json()\n",
    "                temperature = data[\"main\"][\"temp\"]\n",
    "\n",
    "                # Registrar mensaje informativo\n",
    "                logger.info(f\"La temperatura actual en Pehuajó es {temperature} grados Celsius\")\n",
    "\n",
    "                return temperature > cls.MAX_TEMP\n",
    "            else:\n",
    "                # Registrar mensaje de error\n",
    "                logger.error(\"No se pudo obtener la información del clima\")\n",
    "\n",
    "                return False\n",
    "        except requests.exceptions.RequestException:\n",
    "            # Registrar mensaje de excepción\n",
    "            logger.exception(\"Ocurrió un error al realizar la solicitud HTTP\")\n",
    "\n",
    "            return False\n",
    "        \n",
    "# Llamar al método is_hot_in_pehuajo para verificar si hace calor en Pehuajó\n",
    "result = GeoAPI.is_hot_in_pehuajo()\n",
    "\n",
    "# Imprimir el resultado\n",
    "if result:\n",
    "    print(\"¡Hace calor en Pehuajó!\")\n",
    "else:\n",
    "    print(\"No hace calor en Pehuajó.\")\n"
   ]
  },
  {
   "attachments": {},
   "cell_type": "markdown",
   "metadata": {},
   "source": [
    "Nota: Si estas utilizando Visual Estudio Code y si no lo hiciste antes, al ejecutar la primera celda con python te debería salir la ventana emrgente siguiente, donde debes instalar ipykernel package:"
   ]
  },
  {
   "attachments": {},
   "cell_type": "markdown",
   "metadata": {},
   "source": [
    "![instalar ipykernel package](images/ipykernel-package.jpg)"
   ]
  },
  {
   "attachments": {},
   "cell_type": "markdown",
   "metadata": {},
   "source": [
    "Por último realizamos las pruebas unitarias: \n",
    "\n",
    "* Para ello llevamos al código, el que estuvimos experimentando, a un archivo  [src/geoapi.py](src/geoapi.py)\n",
    "* Instalamos pytest. %pip install pytest\n",
    "* Y creamos un archivo [tests/test_geoapi.py](tests/test_geoapi.py)\n",
    "\n",
    "El proyecto va tomando forma, la estructura nos va quedando, más o menos, asi:"
   ]
  },
  {
   "attachments": {},
   "cell_type": "markdown",
   "metadata": {},
   "source": [
    "\n",
    "![Estructura de archivos](images/estructura.jpg)"
   ]
  },
  {
   "attachments": {},
   "cell_type": "markdown",
   "metadata": {},
   "source": [
    "Ve al directorio raiz del proyecto y ejecuta: pytest ó bien pytest -v\n",
    "\n",
    "\"pytest -v\" es muy útil cuando deseas una salida más detallada y legible durante la ejecución de las pruebas, lo que facilita la identificación de pruebas individuales y su resultado.\n",
    "\n",
    "Ejemplo a continuación:"
   ]
  },
  {
   "attachments": {},
   "cell_type": "markdown",
   "metadata": {},
   "source": [
    "![Test is_hot_in_pehuajo](images/test_geoapi.jpg)"
   ]
  },
  {
   "attachments": {},
   "cell_type": "markdown",
   "metadata": {},
   "source": [
    "Para más detalle acerca del desarrollo de las pruebas ve al archivo [tests/test_geoapi.py](tests/test_geoapi.py). "
   ]
  },
  {
   "attachments": {},
   "cell_type": "markdown",
   "metadata": {},
   "source": [
    "## 2: Función is_product_available\n",
    "\n",
    "Dadas las variables: product_name y quantity, voy a completar la función is_product_available, función que va a buscar en un pandas DataFrame (simulando una base de datos) y devolver True si existe stock, False en caso contrario.\n",
    "\n",
    "Nota: si miramos el diagrama de flujo al momento de la decisión de stock, encontramos un potencial loop infinito, ya que el usuario podria continuar ingresando productos invalidos o sin stock.\n",
    "\n",
    "En primer lugar instalamos pandas si no lo tenemos aún:\n",
    "\n",
    "%pip install pandas"
   ]
  },
  {
   "cell_type": "code",
   "execution_count": 6,
   "metadata": {},
   "outputs": [
    {
     "name": "stderr",
     "output_type": "stream",
     "text": [
      "2023-07-09 21:46:01,054 - INFO - Producto: Dulce de leche, Cantidad: 5, Disponible: True\n"
     ]
    },
    {
     "name": "stdout",
     "output_type": "stream",
     "text": [
      "¡Hay stock!\n"
     ]
    }
   ],
   "source": [
    "import logging\n",
    "import pandas as pd\n",
    "\n",
    "_PRODUCT_DF = pd.DataFrame({\n",
    "    \"product_name\": [\"Chocolate\", \"Granizado\", \"Limon\", \"Dulce de Leche\"], \n",
    "    \"quantity\": [3, 10, 0, 5]\n",
    "})\n",
    "\n",
    "# Configuración básica de logging para mostrar los mensajes en la consola\n",
    "logging.basicConfig(level=logging.DEBUG,\n",
    "                    format='%(asctime)s - %(levelname)s - %(message)s')\n",
    "logger = logging.getLogger(__name__)\n",
    "\n",
    "def is_product_available(product_name, quantity):\n",
    "    \"\"\"\n",
    "    Verifica si un producto está disponible en el inventario.\n",
    "\n",
    "    :param product_name: Nombre del producto a verificar.\n",
    "    :type product_name: str\n",
    "    :param quantity: Cantidad deseada del producto.\n",
    "    :type quantity: int\n",
    "\n",
    "    :return: True si el producto está disponible en la cantidad deseada, False en caso contrario.\n",
    "    :rtype: bool\n",
    "    \"\"\"\n",
    "    try:\n",
    "        if quantity < 1:\n",
    "            # Registrar mensaje de error\n",
    "            logger.error(\"Producto no disponible\")\n",
    "            return False\n",
    "        product = _PRODUCT_DF.loc[_PRODUCT_DF[\"product_name\"].str.lower() == product_name.lower(), \"quantity\"]\n",
    "        if not product.empty:\n",
    "            stock = product.iloc[0]\n",
    "            # Registrar mensaje informativo\n",
    "            logger.info(f\"Producto: {product_name}, Cantidad: {stock}, Disponible: {stock >= quantity}\")\n",
    "            return stock >= quantity\n",
    "        else:\n",
    "            # Registrar mensaje de error\n",
    "            logger.error(\"Producto no disponible\")\n",
    "            return False\n",
    "    except Exception as e:\n",
    "        # Registrar mensaje de excepción\n",
    "        logger.exception(\"Ocurrió un error al verificar la disponibilidad del producto: %s\", str(e))\n",
    "        return False\n",
    "\n",
    "result = is_product_available(\"Dulce de leche\", 2)\n",
    "\n",
    "# Imprimir el resultado\n",
    "if result:\n",
    "    print(\"¡Hay stock!\")\n",
    "else:\n",
    "    print(\"No hay...\")"
   ]
  },
  {
   "cell_type": "markdown",
   "metadata": {},
   "source": [
    "Más ejemplos:"
   ]
  },
  {
   "cell_type": "code",
   "execution_count": 7,
   "metadata": {},
   "outputs": [
    {
     "name": "stderr",
     "output_type": "stream",
     "text": [
      "2023-07-09 21:56:51,961 - INFO - Producto: Chocolate, Cantidad: 3, Disponible: True\n",
      "2023-07-09 21:56:51,963 - INFO - Producto: Granizado, Cantidad: 10, Disponible: False\n",
      "2023-07-09 21:56:51,965 - ERROR - Producto no disponible\n",
      "2023-07-09 21:56:51,966 - INFO - Producto: Dulce de Leche, Cantidad: 5, Disponible: False\n",
      "2023-07-09 21:56:51,967 - ERROR - Producto no disponible\n"
     ]
    },
    {
     "name": "stdout",
     "output_type": "stream",
     "text": [
      "Producto: Chocolate, Cantidad: 2, Disponible: True\n",
      "Producto: Granizado, Cantidad: 15, Disponible: False\n",
      "Producto: Limon, Cantidad: 0, Disponible: False\n",
      "Producto: Dulce de Leche, Cantidad: 8, Disponible: False\n",
      "Producto: Mora, Cantidad: 4, Disponible: False\n"
     ]
    }
   ],
   "source": [
    "# Ejemplos de prueba\n",
    "test_cases = [\n",
    "    (\"Chocolate\", 2),  # Producto disponible en cantidad suficiente\n",
    "    (\"Granizado\", 15),  # Producto disponible, pero cantidad insuficiente\n",
    "    (\"Limon\", 0),  # Cantidad deseada es 0\n",
    "    (\"Dulce de Leche\", 8),  # Producto disponible, pero cantidad insuficiente\n",
    "    (\"Mora\", 4),  # Producto no existente\n",
    "]\n",
    "\n",
    "for product, quantity in test_cases:\n",
    "    result = is_product_available(product, quantity)\n",
    "    print(f\"Producto: {product}, Cantidad: {quantity}, Disponible: {result}\")"
   ]
  },
  {
   "cell_type": "markdown",
   "metadata": {},
   "source": [
    "La función realiza una verificación inicial para determinar si la cantidad deseada es menor que 1. En ese caso, se registra un mensaje de error y se devuelve False. Esto asegura que si la cantidad es inválida (por ejemplo, un número negativo), la función no continúa con el proceso de búsqueda en el inventario y se sale de inmediato.\n",
    "\n",
    "Además, si el producto no se encuentra en el DataFrame _PRODUCT_DF, se registra un mensaje de error y se devuelve False. No hay ningún bucle en la función que permita una iteración continua en busca del producto, por lo tanto no presenta riesgo de entrar en un bucle infinito."
   ]
  },
  {
   "cell_type": "markdown",
   "metadata": {},
   "source": [
    "Para las pruebas unitarias: \n",
    "\n",
    "* Creamos el archivo  [src/product_available.py](src/product_available.py)\n",
    "* Y el archivo [tests/test_product_available.py](tests/test_product_available.py)\n",
    "\n",
    "Luego para ejecutar pytest podemos hacerlo directamente sobre el archivo, por ejemplo de la siguiente manera:\n",
    "\n",
    "pytest tests\\test_product_available.py -v "
   ]
  },
  {
   "cell_type": "markdown",
   "metadata": {},
   "source": [
    "![Test product_available](images/test_available.jpg)"
   ]
  },
  {
   "cell_type": "markdown",
   "metadata": {},
   "source": [
    "Más detalle acerca del desarrollo de las pruebas en al archivo [tests/test_product_available.py](tests/test_product_available.py). "
   ]
  },
  {
   "cell_type": "markdown",
   "metadata": {},
   "source": [
    "## 3: Función validate_discount_code\n",
    "\n",
    "Completar la función validate_discount_code con el siguiente objetivo:\n",
    "\n",
    "* Dada la lista de códigos de descuento vigentes y un código de descuento mencionado por el cliente, devuelve True si la diferencia entre el código mencionado y los códigos vigentes es menor a tres caracteres, en al menos\n",
    "uno de los casos.\n",
    "\n",
    "Nota: por diferencia se entiende caracteres que están presentes en el código brindado, pero\n",
    "no en el código evaluado de la lista o viceversa (-desde ya esto me hace pensar en conjuntos-)."
   ]
  },
  {
   "cell_type": "markdown",
   "metadata": {},
   "source": [
    "Ejemplos:\n",
    "\n",
    "\"primavera2021\" deberia devolver True, ya que al compararlo:\n",
    "\n",
    "vs \"Primavera2021\" = 2 caracteres de diferencia (\"p\" y \"P\")\n",
    "\n",
    "vs \"Verano2021\" = 7 caracteres de diferencia ('i', 'n', 'o',\n",
    "'m', 'V', 'p', 'v')\n",
    "\n",
    "vs \"Navidad2x1\" = 8 caracteres de diferencia ('N', 'm', '0',\n",
    "'x', 'e', 'd', 'p', 'r')\n",
    "\n",
    "vs \"heladoFrozen\" = 14 caracteres de diferencia ('z', 'i',\n",
    "'v', 'n', 'o', 'm', '2', '0', 'd', 'p', '1', 'F', 'h', 'l')"
   ]
  },
  {
   "cell_type": "markdown",
   "metadata": {},
   "source": [
    "Confirmado! para calcular la diferencia de caracteres entre el código mencionado y el código vigente voy a utilizar el operador de diferencia asimétrica entre conjuntos."
   ]
  },
  {
   "cell_type": "code",
   "execution_count": 3,
   "metadata": {},
   "outputs": [],
   "source": [
    "import logging\n",
    "\n",
    "# Configuración básica de logging para mostrar los mensajes en la consola\n",
    "logging.basicConfig(level=logging.DEBUG, format='%(asctime)s - %(levelname)s - %(message)s')\n",
    "logger = logging.getLogger(__name__)\n",
    "\n",
    "_AVAILABLE_DISCOUNT_CODES = [\"Primavera2021\", \"Verano2021\", \"Navidad2x1\", \"heladoFrozen\"]\n",
    "\n",
    "def validate_discount_code(discount_code):\n",
    "    for code in _AVAILABLE_DISCOUNT_CODES:\n",
    "        difference = len(set(discount_code) ^ set(code))\n",
    "        logger.debug(f\"Diferencia entre '{discount_code}' y '{code}': {difference} caracteres\")\n",
    "        if difference < 3:\n",
    "            return True\n",
    "    return False"
   ]
  },
  {
   "cell_type": "code",
   "execution_count": 6,
   "metadata": {},
   "outputs": [
    {
     "name": "stderr",
     "output_type": "stream",
     "text": [
      "2023-07-10 11:16:13,797 - DEBUG - Diferencia entre 'primavera2021' y 'Primavera2021': 2 caracteres\n",
      "2023-07-10 11:16:13,799 - DEBUG - Diferencia entre 'Helado2021' y 'Primavera2021': 9 caracteres\n",
      "2023-07-10 11:16:13,800 - DEBUG - Diferencia entre 'Helado2021' y 'Verano2021': 6 caracteres\n",
      "2023-07-10 11:16:13,801 - DEBUG - Diferencia entre 'Helado2021' y 'Navidad2x1': 9 caracteres\n",
      "2023-07-10 11:16:13,802 - DEBUG - Diferencia entre 'Helado2021' y 'heladoFrozen': 9 caracteres\n",
      "2023-07-10 11:16:13,803 - DEBUG - Diferencia entre 'Navidad2x2' y 'Primavera2021': 9 caracteres\n",
      "2023-07-10 11:16:13,805 - DEBUG - Diferencia entre 'Navidad2x2' y 'Verano2021': 12 caracteres\n",
      "2023-07-10 11:16:13,806 - DEBUG - Diferencia entre 'Navidad2x2' y 'Navidad2x1': 1 caracteres\n",
      "2023-07-10 11:16:13,807 - DEBUG - Diferencia entre 'Verano2021' y 'Primavera2021': 7 caracteres\n",
      "2023-07-10 11:16:13,808 - DEBUG - Diferencia entre 'Verano2021' y 'Verano2021': 0 caracteres\n",
      "2023-07-10 11:16:13,810 - DEBUG - Diferencia entre 'NAVIDAD2X1' y 'Primavera2021': 14 caracteres\n",
      "2023-07-10 11:16:13,812 - DEBUG - Diferencia entre 'NAVIDAD2X1' y 'Verano2021': 11 caracteres\n",
      "2023-07-10 11:16:13,812 - DEBUG - Diferencia entre 'NAVIDAD2X1' y 'Navidad2x1': 10 caracteres\n",
      "2023-07-10 11:16:13,813 - DEBUG - Diferencia entre 'NAVIDAD2X1' y 'heladoFrozen': 18 caracteres\n"
     ]
    },
    {
     "name": "stdout",
     "output_type": "stream",
     "text": [
      "True\n",
      "False\n",
      "True\n",
      "True\n",
      "False\n"
     ]
    }
   ],
   "source": [
    "# Ejemplo 1: Diferencia menor a 3 caracteres\n",
    "discount_code = \"primavera2021\"\n",
    "result = validate_discount_code(discount_code)\n",
    "print(result)  # Output: True\n",
    "\n",
    "# Ejemplo 2: Diferencia mayor a 3 caracteres\n",
    "discount_code = \"Helado2021\"\n",
    "result = validate_discount_code(discount_code)\n",
    "print(result)  # Output: False\n",
    "\n",
    "# Ejemplo 3: Diferencia menor a 3 caracteres\n",
    "discount_code = \"Navidad2x2\"\n",
    "result = validate_discount_code(discount_code)\n",
    "print(result)  # Output: True\n",
    "\n",
    "# Ejemplo 4: Diferencia menor a 3 caracteres con mayúsculas y minúsculas\n",
    "discount_code = \"Verano2021\"\n",
    "result = validate_discount_code(discount_code)\n",
    "print(result)  # Output: True\n",
    "\n",
    "# Ejemplo 5: Diferencia mayor a 3 caracteres con mayúsculas y minúsculas\n",
    "discount_code = \"NAVIDAD2X1\"\n",
    "result = validate_discount_code(discount_code)\n",
    "print(result)  # Output: False"
   ]
  },
  {
   "cell_type": "markdown",
   "metadata": {},
   "source": [
    "Si cambio el orden de \"Primavera2021\", lo coloco al final en el dataframe..."
   ]
  },
  {
   "cell_type": "code",
   "execution_count": 7,
   "metadata": {},
   "outputs": [],
   "source": [
    "import logging\n",
    "\n",
    "# Configuración básica de logging para mostrar los mensajes en la consola\n",
    "logging.basicConfig(level=logging.DEBUG, format='%(asctime)s - %(levelname)s - %(message)s')\n",
    "logger = logging.getLogger(__name__)\n",
    "\n",
    "_AVAILABLE_DISCOUNT_CODES = [\"Verano2021\", \"Navidad2x1\", \"heladoFrozen\", \"Primavera2021\"]\n",
    "\n",
    "def validate_discount_code(discount_code):\n",
    "    for code in _AVAILABLE_DISCOUNT_CODES:\n",
    "        difference = len(set(discount_code) ^ set(code))\n",
    "        logger.debug(f\"Diferencia entre '{discount_code}' y '{code}': {difference} caracteres\")\n",
    "        if difference < 3:\n",
    "            return True\n",
    "    return False"
   ]
  },
  {
   "cell_type": "markdown",
   "metadata": {},
   "source": [
    "Y pruebo:"
   ]
  },
  {
   "cell_type": "code",
   "execution_count": 8,
   "metadata": {},
   "outputs": [
    {
     "name": "stderr",
     "output_type": "stream",
     "text": [
      "2023-07-10 11:21:39,098 - DEBUG - Diferencia entre 'primavera2021' y 'Verano2021': 7 caracteres\n",
      "2023-07-10 11:21:39,100 - DEBUG - Diferencia entre 'primavera2021' y 'Navidad2x1': 8 caracteres\n",
      "2023-07-10 11:21:39,102 - DEBUG - Diferencia entre 'primavera2021' y 'heladoFrozen': 14 caracteres\n",
      "2023-07-10 11:21:39,105 - DEBUG - Diferencia entre 'primavera2021' y 'Primavera2021': 2 caracteres\n"
     ]
    },
    {
     "name": "stdout",
     "output_type": "stream",
     "text": [
      "True\n"
     ]
    }
   ],
   "source": [
    "# Ejemplo 1: Diferencia menor a 3 caracteres\n",
    "discount_code = \"primavera2021\"\n",
    "result = validate_discount_code(discount_code)\n",
    "print(result)  # Output: True"
   ]
  },
  {
   "cell_type": "markdown",
   "metadata": {},
   "source": [
    "Obtengo el mismo resultado que el ejemplo mencionado al principio. Super!"
   ]
  },
  {
   "cell_type": "markdown",
   "metadata": {},
   "source": [
    "Ahora vamos a optimizar el codigo utilizando manejo de exepciones, any() y list comprehension."
   ]
  },
  {
   "cell_type": "code",
   "execution_count": 15,
   "metadata": {},
   "outputs": [],
   "source": [
    "import logging\n",
    "\n",
    "# Configuración básica de logging para mostrar los mensajes en la consola\n",
    "logging.basicConfig(level=logging.DEBUG, format='%(asctime)s - %(levelname)s - %(message)s')\n",
    "logger = logging.getLogger(__name__)\n",
    "\n",
    "_AVAILABLE_DISCOUNT_CODES = [\"Primavera2021\", \"Verano2021\", \"Navidad2x1\", \"heladoFrozen\"]\n",
    "\n",
    "def validate_discount_code(discount_code):\n",
    "    \"\"\"\n",
    "    Valida si un código de descuento se encuentra vigente en la lista.\n",
    "\n",
    "    :param discount_code: El código de descuento ingresado por el cliente.\n",
    "    :type discount_code: str\n",
    "\n",
    "    :return: True si la diferencia entre el código ingresado y los códigos vigentes es menor a tres caracteres\n",
    "             en al menos uno de los casos. False en caso contrario o si se produce un error durante la validación.\n",
    "    :rtype: bool\n",
    "    \"\"\"\n",
    "    try:\n",
    "        return any(len(set(discount_code) ^ set(code)) < 3 for code in _AVAILABLE_DISCOUNT_CODES)\n",
    "    except Exception as e:\n",
    "        logger.error(f\"Error en la validación del código de descuento: {e}\")\n",
    "        return False\n"
   ]
  },
  {
   "cell_type": "markdown",
   "metadata": {},
   "source": [
    "Utilizo la función any() junto con una list comprehension para verificar si existe al menos un código de descuento vigente en _AVAILABLE_DISCOUNT_CODES que cumpla con la condición de tener menos de 3 diferencias de caractares con el código dado.\n",
    "\n",
    "Un bloque try-except para manejar cualquier excepción que pueda ocurrir durante la validación del código de descuento.\n",
    "\n",
    "Devuelve True si se encuentra un código válido y False en caso de error o si no se encuentra ningún código válido."
   ]
  },
  {
   "cell_type": "code",
   "execution_count": 16,
   "metadata": {},
   "outputs": [
    {
     "name": "stderr",
     "output_type": "stream",
     "text": [
      "2023-07-10 12:34:47,229 - ERROR - Error en la validación del código de descuento: 'int' object is not iterable\n"
     ]
    },
    {
     "name": "stdout",
     "output_type": "stream",
     "text": [
      "True\n",
      "False\n",
      "True\n",
      "True\n",
      "False\n",
      "False -> Excepción\n"
     ]
    }
   ],
   "source": [
    "# Ejemplo 1: Diferencia menor a 3 caracteres\n",
    "discount_code = \"primavera2021\"\n",
    "result = validate_discount_code(discount_code)\n",
    "print(result)  # Output: True\n",
    "\n",
    "# Ejemplo 2: Diferencia mayor a 3 caracteres\n",
    "discount_code = \"Helado2021\"\n",
    "result = validate_discount_code(discount_code)\n",
    "print(result)  # Output: False\n",
    "\n",
    "# Ejemplo 3: Diferencia menor a 3 caracteres\n",
    "discount_code = \"Navidad2x2\"\n",
    "result = validate_discount_code(discount_code)\n",
    "print(result)  # Output: True\n",
    "\n",
    "# Ejemplo 4: Diferencia menor a 3 caracteres con mayúsculas y minúsculas\n",
    "discount_code = \"Verano2021\"\n",
    "result = validate_discount_code(discount_code)\n",
    "print(result)  # Output: True\n",
    "\n",
    "# Ejemplo 5: Diferencia mayor a 3 caracteres con mayúsculas y minúsculas\n",
    "discount_code = \"NAVIDAD2X1\"\n",
    "result = validate_discount_code(discount_code)\n",
    "print(result)  # Output: False\n",
    "\n",
    "# Ejemplo 6: Código de descuento inválido (genera una excepción)\n",
    "discount_code = 12345\n",
    "result = validate_discount_code(discount_code)\n",
    "print(str(result) + \" -> Excepción\")  # Output: False\n"
   ]
  }
 ],
 "metadata": {
  "kernelspec": {
   "display_name": "venv",
   "language": "python",
   "name": "python3"
  },
  "language_info": {
   "codemirror_mode": {
    "name": "ipython",
    "version": 3
   },
   "file_extension": ".py",
   "mimetype": "text/x-python",
   "name": "python",
   "nbconvert_exporter": "python",
   "pygments_lexer": "ipython3",
   "version": "3.10.4"
  },
  "orig_nbformat": 4
 },
 "nbformat": 4,
 "nbformat_minor": 2
}
